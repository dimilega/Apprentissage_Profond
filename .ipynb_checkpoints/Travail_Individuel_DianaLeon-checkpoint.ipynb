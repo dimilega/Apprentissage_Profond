{
 "cells": [
  {
   "cell_type": "code",
   "execution_count": 2,
   "metadata": {},
   "outputs": [
    {
     "name": "stdout",
     "output_type": "stream",
     "text": [
      "Requirement already satisfied: tensorflow in /usr/local/lib/python3.11/site-packages (2.13.0)\n",
      "Requirement already satisfied: absl-py>=1.0.0 in /usr/local/lib/python3.11/site-packages (from tensorflow) (1.4.0)\n",
      "Requirement already satisfied: astunparse>=1.6.0 in /usr/local/lib/python3.11/site-packages (from tensorflow) (1.6.3)\n",
      "Requirement already satisfied: flatbuffers>=23.1.21 in /usr/local/lib/python3.11/site-packages (from tensorflow) (23.5.26)\n",
      "Requirement already satisfied: gast<=0.4.0,>=0.2.1 in /usr/local/lib/python3.11/site-packages (from tensorflow) (0.4.0)\n",
      "Requirement already satisfied: google-pasta>=0.1.1 in /usr/local/lib/python3.11/site-packages (from tensorflow) (0.2.0)\n",
      "Requirement already satisfied: grpcio<2.0,>=1.24.3 in /usr/local/lib/python3.11/site-packages (from tensorflow) (1.56.2)\n",
      "Requirement already satisfied: h5py>=2.9.0 in /usr/local/lib/python3.11/site-packages (from tensorflow) (3.9.0)\n",
      "Requirement already satisfied: keras<2.14,>=2.13.1 in /usr/local/lib/python3.11/site-packages (from tensorflow) (2.13.1)\n",
      "Requirement already satisfied: libclang>=13.0.0 in /usr/local/lib/python3.11/site-packages (from tensorflow) (16.0.6)\n",
      "Requirement already satisfied: numpy<=1.24.3,>=1.22 in /usr/local/lib/python3.11/site-packages (from tensorflow) (1.23.4)\n",
      "Requirement already satisfied: opt-einsum>=2.3.2 in /usr/local/lib/python3.11/site-packages (from tensorflow) (3.3.0)\n",
      "Requirement already satisfied: packaging in /usr/local/lib/python3.11/site-packages (from tensorflow) (21.3)\n",
      "Requirement already satisfied: protobuf!=4.21.0,!=4.21.1,!=4.21.2,!=4.21.3,!=4.21.4,!=4.21.5,<5.0.0dev,>=3.20.3 in /usr/local/lib/python3.11/site-packages (from tensorflow) (4.23.4)\n",
      "Requirement already satisfied: setuptools in /usr/local/lib/python3.11/site-packages (from tensorflow) (65.5.1)\n",
      "Requirement already satisfied: six>=1.12.0 in /usr/local/lib/python3.11/site-packages (from tensorflow) (1.16.0)\n",
      "Requirement already satisfied: tensorboard<2.14,>=2.13 in /usr/local/lib/python3.11/site-packages (from tensorflow) (2.13.0)\n",
      "Requirement already satisfied: tensorflow-estimator<2.14,>=2.13.0 in /usr/local/lib/python3.11/site-packages (from tensorflow) (2.13.0)\n",
      "Requirement already satisfied: termcolor>=1.1.0 in /usr/local/lib/python3.11/site-packages (from tensorflow) (2.3.0)\n",
      "Requirement already satisfied: typing-extensions<4.6.0,>=3.6.6 in /usr/local/lib/python3.11/site-packages (from tensorflow) (4.5.0)\n",
      "Requirement already satisfied: wrapt>=1.11.0 in /usr/local/lib/python3.11/site-packages (from tensorflow) (1.15.0)\n",
      "Requirement already satisfied: tensorflow-io-gcs-filesystem>=0.23.1 in /usr/local/lib/python3.11/site-packages (from tensorflow) (0.32.0)\n",
      "Requirement already satisfied: wheel<1.0,>=0.23.0 in /usr/local/lib/python3.11/site-packages (from astunparse>=1.6.0->tensorflow) (0.40.0)\n",
      "Requirement already satisfied: google-auth<3,>=1.6.3 in /usr/local/lib/python3.11/site-packages (from tensorboard<2.14,>=2.13->tensorflow) (2.22.0)\n",
      "Requirement already satisfied: google-auth-oauthlib<1.1,>=0.5 in /usr/local/lib/python3.11/site-packages (from tensorboard<2.14,>=2.13->tensorflow) (1.0.0)\n",
      "Requirement already satisfied: markdown>=2.6.8 in /usr/local/lib/python3.11/site-packages (from tensorboard<2.14,>=2.13->tensorflow) (3.4.4)\n",
      "Requirement already satisfied: requests<3,>=2.21.0 in /usr/local/lib/python3.11/site-packages (from tensorboard<2.14,>=2.13->tensorflow) (2.31.0)\n",
      "Requirement already satisfied: tensorboard-data-server<0.8.0,>=0.7.0 in /usr/local/lib/python3.11/site-packages (from tensorboard<2.14,>=2.13->tensorflow) (0.7.1)\n",
      "Requirement already satisfied: werkzeug>=1.0.1 in /usr/local/lib/python3.11/site-packages (from tensorboard<2.14,>=2.13->tensorflow) (2.3.6)\n",
      "Requirement already satisfied: pyparsing!=3.0.5,>=2.0.2 in /usr/local/lib/python3.11/site-packages (from packaging->tensorflow) (3.0.9)\n",
      "Requirement already satisfied: cachetools<6.0,>=2.0.0 in /usr/local/lib/python3.11/site-packages (from google-auth<3,>=1.6.3->tensorboard<2.14,>=2.13->tensorflow) (5.3.1)\n",
      "Requirement already satisfied: pyasn1-modules>=0.2.1 in /usr/local/lib/python3.11/site-packages (from google-auth<3,>=1.6.3->tensorboard<2.14,>=2.13->tensorflow) (0.3.0)\n",
      "Requirement already satisfied: rsa<5,>=3.1.4 in /usr/local/lib/python3.11/site-packages (from google-auth<3,>=1.6.3->tensorboard<2.14,>=2.13->tensorflow) (4.9)\n",
      "Requirement already satisfied: urllib3<2.0 in /usr/local/lib/python3.11/site-packages (from google-auth<3,>=1.6.3->tensorboard<2.14,>=2.13->tensorflow) (1.26.16)\n",
      "Requirement already satisfied: requests-oauthlib>=0.7.0 in /usr/local/lib/python3.11/site-packages (from google-auth-oauthlib<1.1,>=0.5->tensorboard<2.14,>=2.13->tensorflow) (1.3.1)\n",
      "Requirement already satisfied: charset-normalizer<4,>=2 in /usr/local/lib/python3.11/site-packages (from requests<3,>=2.21.0->tensorboard<2.14,>=2.13->tensorflow) (3.2.0)\n",
      "Requirement already satisfied: idna<4,>=2.5 in /usr/local/lib/python3.11/site-packages (from requests<3,>=2.21.0->tensorboard<2.14,>=2.13->tensorflow) (3.4)\n",
      "Requirement already satisfied: certifi>=2017.4.17 in /usr/local/lib/python3.11/site-packages (from requests<3,>=2.21.0->tensorboard<2.14,>=2.13->tensorflow) (2023.7.22)\n",
      "Requirement already satisfied: MarkupSafe>=2.1.1 in /usr/local/lib/python3.11/site-packages (from werkzeug>=1.0.1->tensorboard<2.14,>=2.13->tensorflow) (2.1.1)\n",
      "Requirement already satisfied: pyasn1<0.6.0,>=0.4.6 in /usr/local/lib/python3.11/site-packages (from pyasn1-modules>=0.2.1->google-auth<3,>=1.6.3->tensorboard<2.14,>=2.13->tensorflow) (0.5.0)\n",
      "Requirement already satisfied: oauthlib>=3.0.0 in /usr/local/lib/python3.11/site-packages (from requests-oauthlib>=0.7.0->google-auth-oauthlib<1.1,>=0.5->tensorboard<2.14,>=2.13->tensorflow) (3.2.2)\n",
      "\u001b[33mWARNING: Running pip as the 'root' user can result in broken permissions and conflicting behaviour with the system package manager. It is recommended to use a virtual environment instead: https://pip.pypa.io/warnings/venv\u001b[0m\u001b[33m\n",
      "\u001b[0m\n",
      "\u001b[1m[\u001b[0m\u001b[34;49mnotice\u001b[0m\u001b[1;39;49m]\u001b[0m\u001b[39;49m A new release of pip is available: \u001b[0m\u001b[31;49m23.1.2\u001b[0m\u001b[39;49m -> \u001b[0m\u001b[32;49m23.2.1\u001b[0m\n",
      "\u001b[1m[\u001b[0m\u001b[34;49mnotice\u001b[0m\u001b[1;39;49m]\u001b[0m\u001b[39;49m To update, run: \u001b[0m\u001b[32;49mpip install --upgrade pip\u001b[0m\n"
     ]
    }
   ],
   "source": [
    "!pip install tensorflow "
   ]
  },
  {
   "cell_type": "markdown",
   "metadata": {},
   "source": [
    "1. Importation des packages pour l'analyse"
   ]
  },
  {
   "cell_type": "code",
   "execution_count": 18,
   "metadata": {
    "id": "pvhn7slVQEFy"
   },
   "outputs": [],
   "source": [
    "import pandas as pd\n",
    "import numpy as np\n",
    "from sklearn.preprocessing import StandardScaler, MinMaxScaler\n",
    "from sklearn.model_selection import train_test_split\n",
    "import tensorflow as tf\n",
    "from tensorflow.keras import Sequential\n",
    "from tensorflow.keras.layers import Dense\n",
    "from keras.utils import plot_model\n",
    "from tqdm import tqdm\n",
    "import matplotlib.pyplot as plt"
   ]
  },
  {
   "cell_type": "markdown",
   "metadata": {
    "id": "zjvY5ri4RJDP"
   },
   "source": [
    "2. Importation des packages pour l'analyse"
   ]
  },
  {
   "cell_type": "code",
   "execution_count": 4,
   "metadata": {},
   "outputs": [
    {
     "data": {
      "text/html": [
       "<div>\n",
       "<style scoped>\n",
       "    .dataframe tbody tr th:only-of-type {\n",
       "        vertical-align: middle;\n",
       "    }\n",
       "\n",
       "    .dataframe tbody tr th {\n",
       "        vertical-align: top;\n",
       "    }\n",
       "\n",
       "    .dataframe thead th {\n",
       "        text-align: right;\n",
       "    }\n",
       "</style>\n",
       "<table border=\"1\" class=\"dataframe\">\n",
       "  <thead>\n",
       "    <tr style=\"text-align: right;\">\n",
       "      <th></th>\n",
       "      <th>ScenarioID</th>\n",
       "      <th>HolesCompletedCount</th>\n",
       "      <th>Hole1</th>\n",
       "      <th>Hole2</th>\n",
       "      <th>Hole3</th>\n",
       "      <th>Hole4</th>\n",
       "      <th>Hole5</th>\n",
       "      <th>Hole6</th>\n",
       "      <th>Hole7</th>\n",
       "      <th>Hole8</th>\n",
       "      <th>...</th>\n",
       "      <th>Hole10</th>\n",
       "      <th>Hole11</th>\n",
       "      <th>Hole12</th>\n",
       "      <th>Hole13</th>\n",
       "      <th>Hole14</th>\n",
       "      <th>Hole15</th>\n",
       "      <th>Hole16</th>\n",
       "      <th>Hole17</th>\n",
       "      <th>Hole18</th>\n",
       "      <th>TotalScore</th>\n",
       "    </tr>\n",
       "    <tr>\n",
       "      <th>GameID</th>\n",
       "      <th></th>\n",
       "      <th></th>\n",
       "      <th></th>\n",
       "      <th></th>\n",
       "      <th></th>\n",
       "      <th></th>\n",
       "      <th></th>\n",
       "      <th></th>\n",
       "      <th></th>\n",
       "      <th></th>\n",
       "      <th></th>\n",
       "      <th></th>\n",
       "      <th></th>\n",
       "      <th></th>\n",
       "      <th></th>\n",
       "      <th></th>\n",
       "      <th></th>\n",
       "      <th></th>\n",
       "      <th></th>\n",
       "      <th></th>\n",
       "      <th></th>\n",
       "    </tr>\n",
       "  </thead>\n",
       "  <tbody>\n",
       "    <tr>\n",
       "      <th>1</th>\n",
       "      <td>1</td>\n",
       "      <td>0</td>\n",
       "      <td>0</td>\n",
       "      <td>0</td>\n",
       "      <td>0</td>\n",
       "      <td>0</td>\n",
       "      <td>0</td>\n",
       "      <td>0</td>\n",
       "      <td>0</td>\n",
       "      <td>0</td>\n",
       "      <td>...</td>\n",
       "      <td>0</td>\n",
       "      <td>0</td>\n",
       "      <td>0</td>\n",
       "      <td>0</td>\n",
       "      <td>0</td>\n",
       "      <td>0</td>\n",
       "      <td>0</td>\n",
       "      <td>0</td>\n",
       "      <td>0</td>\n",
       "      <td>85</td>\n",
       "    </tr>\n",
       "    <tr>\n",
       "      <th>2</th>\n",
       "      <td>1</td>\n",
       "      <td>0</td>\n",
       "      <td>0</td>\n",
       "      <td>0</td>\n",
       "      <td>0</td>\n",
       "      <td>0</td>\n",
       "      <td>0</td>\n",
       "      <td>0</td>\n",
       "      <td>0</td>\n",
       "      <td>0</td>\n",
       "      <td>...</td>\n",
       "      <td>0</td>\n",
       "      <td>0</td>\n",
       "      <td>0</td>\n",
       "      <td>0</td>\n",
       "      <td>0</td>\n",
       "      <td>0</td>\n",
       "      <td>0</td>\n",
       "      <td>0</td>\n",
       "      <td>0</td>\n",
       "      <td>77</td>\n",
       "    </tr>\n",
       "    <tr>\n",
       "      <th>3</th>\n",
       "      <td>1</td>\n",
       "      <td>0</td>\n",
       "      <td>0</td>\n",
       "      <td>0</td>\n",
       "      <td>0</td>\n",
       "      <td>0</td>\n",
       "      <td>0</td>\n",
       "      <td>0</td>\n",
       "      <td>0</td>\n",
       "      <td>0</td>\n",
       "      <td>...</td>\n",
       "      <td>0</td>\n",
       "      <td>0</td>\n",
       "      <td>0</td>\n",
       "      <td>0</td>\n",
       "      <td>0</td>\n",
       "      <td>0</td>\n",
       "      <td>0</td>\n",
       "      <td>0</td>\n",
       "      <td>0</td>\n",
       "      <td>83</td>\n",
       "    </tr>\n",
       "    <tr>\n",
       "      <th>4</th>\n",
       "      <td>1</td>\n",
       "      <td>0</td>\n",
       "      <td>0</td>\n",
       "      <td>0</td>\n",
       "      <td>0</td>\n",
       "      <td>0</td>\n",
       "      <td>0</td>\n",
       "      <td>0</td>\n",
       "      <td>0</td>\n",
       "      <td>0</td>\n",
       "      <td>...</td>\n",
       "      <td>0</td>\n",
       "      <td>0</td>\n",
       "      <td>0</td>\n",
       "      <td>0</td>\n",
       "      <td>0</td>\n",
       "      <td>0</td>\n",
       "      <td>0</td>\n",
       "      <td>0</td>\n",
       "      <td>0</td>\n",
       "      <td>86</td>\n",
       "    </tr>\n",
       "    <tr>\n",
       "      <th>5</th>\n",
       "      <td>1</td>\n",
       "      <td>0</td>\n",
       "      <td>0</td>\n",
       "      <td>0</td>\n",
       "      <td>0</td>\n",
       "      <td>0</td>\n",
       "      <td>0</td>\n",
       "      <td>0</td>\n",
       "      <td>0</td>\n",
       "      <td>0</td>\n",
       "      <td>...</td>\n",
       "      <td>0</td>\n",
       "      <td>0</td>\n",
       "      <td>0</td>\n",
       "      <td>0</td>\n",
       "      <td>0</td>\n",
       "      <td>0</td>\n",
       "      <td>0</td>\n",
       "      <td>0</td>\n",
       "      <td>0</td>\n",
       "      <td>87</td>\n",
       "    </tr>\n",
       "    <tr>\n",
       "      <th>6</th>\n",
       "      <td>1</td>\n",
       "      <td>0</td>\n",
       "      <td>0</td>\n",
       "      <td>0</td>\n",
       "      <td>0</td>\n",
       "      <td>0</td>\n",
       "      <td>0</td>\n",
       "      <td>0</td>\n",
       "      <td>0</td>\n",
       "      <td>0</td>\n",
       "      <td>...</td>\n",
       "      <td>0</td>\n",
       "      <td>0</td>\n",
       "      <td>0</td>\n",
       "      <td>0</td>\n",
       "      <td>0</td>\n",
       "      <td>0</td>\n",
       "      <td>0</td>\n",
       "      <td>0</td>\n",
       "      <td>0</td>\n",
       "      <td>83</td>\n",
       "    </tr>\n",
       "    <tr>\n",
       "      <th>7</th>\n",
       "      <td>1</td>\n",
       "      <td>0</td>\n",
       "      <td>0</td>\n",
       "      <td>0</td>\n",
       "      <td>0</td>\n",
       "      <td>0</td>\n",
       "      <td>0</td>\n",
       "      <td>0</td>\n",
       "      <td>0</td>\n",
       "      <td>0</td>\n",
       "      <td>...</td>\n",
       "      <td>0</td>\n",
       "      <td>0</td>\n",
       "      <td>0</td>\n",
       "      <td>0</td>\n",
       "      <td>0</td>\n",
       "      <td>0</td>\n",
       "      <td>0</td>\n",
       "      <td>0</td>\n",
       "      <td>0</td>\n",
       "      <td>70</td>\n",
       "    </tr>\n",
       "    <tr>\n",
       "      <th>8</th>\n",
       "      <td>1</td>\n",
       "      <td>0</td>\n",
       "      <td>0</td>\n",
       "      <td>0</td>\n",
       "      <td>0</td>\n",
       "      <td>0</td>\n",
       "      <td>0</td>\n",
       "      <td>0</td>\n",
       "      <td>0</td>\n",
       "      <td>0</td>\n",
       "      <td>...</td>\n",
       "      <td>0</td>\n",
       "      <td>0</td>\n",
       "      <td>0</td>\n",
       "      <td>0</td>\n",
       "      <td>0</td>\n",
       "      <td>0</td>\n",
       "      <td>0</td>\n",
       "      <td>0</td>\n",
       "      <td>0</td>\n",
       "      <td>81</td>\n",
       "    </tr>\n",
       "    <tr>\n",
       "      <th>9</th>\n",
       "      <td>1</td>\n",
       "      <td>0</td>\n",
       "      <td>0</td>\n",
       "      <td>0</td>\n",
       "      <td>0</td>\n",
       "      <td>0</td>\n",
       "      <td>0</td>\n",
       "      <td>0</td>\n",
       "      <td>0</td>\n",
       "      <td>0</td>\n",
       "      <td>...</td>\n",
       "      <td>0</td>\n",
       "      <td>0</td>\n",
       "      <td>0</td>\n",
       "      <td>0</td>\n",
       "      <td>0</td>\n",
       "      <td>0</td>\n",
       "      <td>0</td>\n",
       "      <td>0</td>\n",
       "      <td>0</td>\n",
       "      <td>92</td>\n",
       "    </tr>\n",
       "    <tr>\n",
       "      <th>10</th>\n",
       "      <td>1</td>\n",
       "      <td>0</td>\n",
       "      <td>0</td>\n",
       "      <td>0</td>\n",
       "      <td>0</td>\n",
       "      <td>0</td>\n",
       "      <td>0</td>\n",
       "      <td>0</td>\n",
       "      <td>0</td>\n",
       "      <td>0</td>\n",
       "      <td>...</td>\n",
       "      <td>0</td>\n",
       "      <td>0</td>\n",
       "      <td>0</td>\n",
       "      <td>0</td>\n",
       "      <td>0</td>\n",
       "      <td>0</td>\n",
       "      <td>0</td>\n",
       "      <td>0</td>\n",
       "      <td>0</td>\n",
       "      <td>78</td>\n",
       "    </tr>\n",
       "  </tbody>\n",
       "</table>\n",
       "<p>10 rows × 21 columns</p>\n",
       "</div>"
      ],
      "text/plain": [
       "        ScenarioID  HolesCompletedCount  Hole1  Hole2  Hole3  Hole4  Hole5  \\\n",
       "GameID                                                                       \n",
       "1                1                    0      0      0      0      0      0   \n",
       "2                1                    0      0      0      0      0      0   \n",
       "3                1                    0      0      0      0      0      0   \n",
       "4                1                    0      0      0      0      0      0   \n",
       "5                1                    0      0      0      0      0      0   \n",
       "6                1                    0      0      0      0      0      0   \n",
       "7                1                    0      0      0      0      0      0   \n",
       "8                1                    0      0      0      0      0      0   \n",
       "9                1                    0      0      0      0      0      0   \n",
       "10               1                    0      0      0      0      0      0   \n",
       "\n",
       "        Hole6  Hole7  Hole8  ...  Hole10  Hole11  Hole12  Hole13  Hole14  \\\n",
       "GameID                       ...                                           \n",
       "1           0      0      0  ...       0       0       0       0       0   \n",
       "2           0      0      0  ...       0       0       0       0       0   \n",
       "3           0      0      0  ...       0       0       0       0       0   \n",
       "4           0      0      0  ...       0       0       0       0       0   \n",
       "5           0      0      0  ...       0       0       0       0       0   \n",
       "6           0      0      0  ...       0       0       0       0       0   \n",
       "7           0      0      0  ...       0       0       0       0       0   \n",
       "8           0      0      0  ...       0       0       0       0       0   \n",
       "9           0      0      0  ...       0       0       0       0       0   \n",
       "10          0      0      0  ...       0       0       0       0       0   \n",
       "\n",
       "        Hole15  Hole16  Hole17  Hole18  TotalScore  \n",
       "GameID                                              \n",
       "1            0       0       0       0          85  \n",
       "2            0       0       0       0          77  \n",
       "3            0       0       0       0          83  \n",
       "4            0       0       0       0          86  \n",
       "5            0       0       0       0          87  \n",
       "6            0       0       0       0          83  \n",
       "7            0       0       0       0          70  \n",
       "8            0       0       0       0          81  \n",
       "9            0       0       0       0          92  \n",
       "10           0       0       0       0          78  \n",
       "\n",
       "[10 rows x 21 columns]"
      ]
     },
     "execution_count": 4,
     "metadata": {},
     "output_type": "execute_result"
    }
   ],
   "source": [
    "path = 'https://raw.githubusercontent.com/dimilega/Apprentissage_Profond/main/AugmentedData.csv'\n",
    "df = pd.read_csv(path, header=0, index_col=0)\n",
    "df.head(10)"
   ]
  },
  {
   "cell_type": "markdown",
   "metadata": {},
   "source": [
    "3. Séparer les données en X (inputs pour faire les prévisions) et en y (outputs à prédire)"
   ]
  },
  {
   "cell_type": "code",
   "execution_count": 5,
   "metadata": {
    "colab": {
     "base_uri": "https://localhost:8080/",
     "height": 430
    },
    "id": "C8jpnmfkRIU_",
    "outputId": "27fa2de1-52a3-4bc9-bffe-455184fc4760"
   },
   "outputs": [
    {
     "name": "stdout",
     "output_type": "stream",
     "text": [
      "X les premières 10 positions: \n",
      " [[1 0 0 0 0 0 0 0 0 0 0 0 0 0 0 0 0 0 0 0]\n",
      " [1 0 0 0 0 0 0 0 0 0 0 0 0 0 0 0 0 0 0 0]\n",
      " [1 0 0 0 0 0 0 0 0 0 0 0 0 0 0 0 0 0 0 0]\n",
      " [1 0 0 0 0 0 0 0 0 0 0 0 0 0 0 0 0 0 0 0]\n",
      " [1 0 0 0 0 0 0 0 0 0 0 0 0 0 0 0 0 0 0 0]\n",
      " [1 0 0 0 0 0 0 0 0 0 0 0 0 0 0 0 0 0 0 0]\n",
      " [1 0 0 0 0 0 0 0 0 0 0 0 0 0 0 0 0 0 0 0]\n",
      " [1 0 0 0 0 0 0 0 0 0 0 0 0 0 0 0 0 0 0 0]\n",
      " [1 0 0 0 0 0 0 0 0 0 0 0 0 0 0 0 0 0 0 0]\n",
      " [1 0 0 0 0 0 0 0 0 0 0 0 0 0 0 0 0 0 0 0]]\n",
      "Y les premières 10 positions: \n",
      " [85 77 83 86 87 83 70 81 92 78]\n",
      "X shape:  (684000, 20)\n"
     ]
    }
   ],
   "source": [
    "X, y = df.values[:, :-1], df.values[:, -1]\n",
    "print(\"X les premières 10 positions: \\n\", X[0:10])\n",
    "print(\"Y les premières 10 positions: \\n\", y[0:10])\n",
    "print(\"X shape: \", X.shape)"
   ]
  },
  {
   "cell_type": "markdown",
   "metadata": {
    "id": "EHleZKBTSHa3"
   },
   "source": [
    "3. Régression avec Scikit-Learn (approche par défaut en régression)"
   ]
  },
  {
   "cell_type": "code",
   "execution_count": 6,
   "metadata": {
    "colab": {
     "base_uri": "https://localhost:8080/"
    },
    "id": "Xc-pjx8vSDog",
    "outputId": "10adb13f-7e48-456d-c83a-0f8891856a41"
   },
   "outputs": [
    {
     "name": "stdout",
     "output_type": "stream",
     "text": [
      "[  0   1   2   3   4   5   6   7   8   9  10  11  12  13  14  15  16  17\n",
      "  18  19  20  21  22  23  24  25  26  27  28  29  30  31  32  33  34  35\n",
      "  36  37  38  39  40  41  42  43  44  45  46  47  48  49  50  51  52  53\n",
      "  54  55  56  57  58  59  60  61  62  63  64  65  66  67  68  69  70  71\n",
      "  72  73  74  75  76  77  78  79  80  81  82  83  84  85  86  87  88  89\n",
      "  90  91  92  93  94  95  96  97  98  99 100 101 102 103 104 105 106 107\n",
      " 108 109 110 111 112 113 114 115 116 117 118 119 120 121 122 123 124 125\n",
      " 126 127 128 129 130 131 132 133 134 135 136 137 138 139 140 141 142 143\n",
      " 144 145 146 147 148 149 150 151 152 153 154 155 156 157 158 159 160 161\n",
      " 162 163 164 165 166 167 168 169 170 171 172 173 174 175 176 177 178 179\n",
      " 180 181 182 183 184 185 186 187 188 189 190 191 192 193 194 195 196 197\n",
      " 198 199 200 201 202 203 204 205 206 207 208 209 210 211 212 213 214 215\n",
      " 216 217 218 219 220 221 222 223 224 225 226 227 228 229 230 231 232 233\n",
      " 234 235 236 237 238 239 240 241 242 243 244 245 246 247 248 249 250 251\n",
      " 252 253 254 255 256 257 258 259 260 261 262 263 264 265 266 267 268 269\n",
      " 270 271 272 273 274 275 276 277 278 279 280 281 282 283 284 285 286 287\n",
      " 288 289 290 291 292 293 294 295 296 297 298 299 300 301 302 303 304 305\n",
      " 306 307 308 309 310 311 312 313 314 315 316 317 318 319 320 321 322 323\n",
      " 324 325 326 327 328 329 330 331 332 333 334 335 336 337 338 339 340 341\n",
      " 342]\n"
     ]
    }
   ],
   "source": [
    "print(np.unique(X))"
   ]
  },
  {
   "cell_type": "markdown",
   "metadata": {
    "id": "8qQi6DPjTsUE"
   },
   "source": [
    "4. Standardisation"
   ]
  },
  {
   "cell_type": "code",
   "execution_count": 7,
   "metadata": {
    "id": "lommgsvXTw_Q"
   },
   "outputs": [],
   "source": [
    "def getScaledDf(pX, pScaler = StandardScaler()):\n",
    "  return pScaler.fit_transform(X)"
   ]
  },
  {
   "cell_type": "markdown",
   "metadata": {
    "id": "Yxotav8UV-dq"
   },
   "source": [
    "5. Séparer les données en un jeu d'entrainement (train) et de test, puis conserver aussi une partie des données en validation"
   ]
  },
  {
   "cell_type": "code",
   "execution_count": 8,
   "metadata": {
    "id": "9vhU8brbWCzn"
   },
   "outputs": [
    {
     "name": "stdout",
     "output_type": "stream",
     "text": [
      "(458280, 20) (225720, 20) (448280, 20) (10000, 20) (458280,) (225720,) (448280,) (10000,)\n"
     ]
    }
   ],
   "source": [
    "X_train_full, X_test, y_train_full, y_test = train_test_split(getScaledDf(X, MinMaxScaler()), y, test_size=0.33)\n",
    "#X_train_full, X_test, y_train_full, y_test = train_test_split(X, y, test_size=0.33)\n",
    "X_train, y_train = X_train_full[:-10000], y_train_full[:-10000]\n",
    "X_valid, y_valid = X_train_full[-10000:], y_train_full[-10000:]\n",
    "print(X_train_full.shape, X_test.shape, X_train.shape, X_valid.shape, y_train_full.shape, y_test.shape, y_train.shape, y_valid.shape)"
   ]
  },
  {
   "cell_type": "markdown",
   "metadata": {
    "id": "iiBRsD2wWvqg"
   },
   "source": [
    "6. Calcul du nombre d'input pour la première couche du réseau"
   ]
  },
  {
   "cell_type": "code",
   "execution_count": 9,
   "metadata": {
    "colab": {
     "base_uri": "https://localhost:8080/"
    },
    "id": "u1CdNvinW0bx",
    "outputId": "4fea062f-ee49-40d0-cea2-d77025fdcc70"
   },
   "outputs": [
    {
     "name": "stdout",
     "output_type": "stream",
     "text": [
      "20\n"
     ]
    }
   ],
   "source": [
    "n_features = X_train.shape[1]\n",
    "print(n_features)"
   ]
  },
  {
   "cell_type": "markdown",
   "metadata": {
    "id": "wqinwXYsceG0"
   },
   "source": [
    "7. Définition du modèle avec l'API sequentiel de Keras"
   ]
  },
  {
   "cell_type": "code",
   "execution_count": 10,
   "metadata": {
    "id": "Ju2p1aLhc548"
   },
   "outputs": [],
   "source": [
    "class ProgressCallback(tf.keras.callbacks.Callback):\n",
    "    def on_epoch_end(self, epoch, logs=None):\n",
    "        tqdm.write(f'Epoch {epoch+1}/{self.params[\"epochs\"]}: mse = {logs[\"mse\"]:.4f}')"
   ]
  },
  {
   "cell_type": "code",
   "execution_count": 11,
   "metadata": {
    "id": "5vNUOQpkkETG"
   },
   "outputs": [],
   "source": [
    "progress_callback = ProgressCallback()"
   ]
  },
  {
   "cell_type": "code",
   "execution_count": 12,
   "metadata": {
    "colab": {
     "base_uri": "https://localhost:8080/"
    },
    "id": "s4NxUhiLjOS4",
    "outputId": "fcb64c91-114b-43f4-ca25-6f029c07fcf9"
   },
   "outputs": [],
   "source": [
    "model = Sequential()\n",
    "model.add(Dense(10, activation='relu', kernel_initializer='he_normal', input_shape=(n_features,)))\n",
    "model.add(Dense(8, activation='relu', kernel_initializer='he_normal'))\n",
    "model.add(Dense(1)) #Seulement 1 unité (neurone) en output, car régression"
   ]
  },
  {
   "cell_type": "markdown",
   "metadata": {
    "id": "rT_9tatOkJN4"
   },
   "source": [
    "8. Compiler le modèle"
   ]
  },
  {
   "cell_type": "code",
   "execution_count": 13,
   "metadata": {
    "id": "FdiVskWCkZgf"
   },
   "outputs": [],
   "source": [
    "model.compile(optimizer='adam', loss='mse', metrics=['mse'])"
   ]
  },
  {
   "cell_type": "markdown",
   "metadata": {
    "id": "jmuKGDKnk_95"
   },
   "source": [
    "9. Entrainement du modèle"
   ]
  },
  {
   "cell_type": "code",
   "execution_count": 14,
   "metadata": {
    "colab": {
     "base_uri": "https://localhost:8080/"
    },
    "id": "So1s_EdtlDVm",
    "outputId": "8f3e25d9-15a0-4a53-9976-d2aede0b7f2a"
   },
   "outputs": [
    {
     "name": "stderr",
     "output_type": "stream",
     "text": [
      "2023-08-01 23:26:42.392407: W tensorflow/tsl/framework/cpu_allocator_impl.cc:83] Allocation of 35862400 exceeds 10% of free system memory.\n"
     ]
    },
    {
     "name": "stdout",
     "output_type": "stream",
     "text": [
      "Epoch 1/150: mse = 784.4167\n",
      "Epoch 2/150: mse = 27.8360\n",
      "Epoch 3/150: mse = 18.9957\n",
      "Epoch 4/150: mse = 18.3205\n",
      "Epoch 5/150: mse = 18.2895\n",
      "Epoch 6/150: mse = 18.2051\n",
      "Epoch 7/150: mse = 18.1291\n",
      "Epoch 8/150: mse = 18.0440\n",
      "Epoch 9/150: mse = 17.9987\n",
      "Epoch 10/150: mse = 17.9543\n",
      "Epoch 11/150: mse = 17.9232\n",
      "Epoch 12/150: mse = 17.8892\n",
      "Epoch 13/150: mse = 17.8194\n",
      "Epoch 14/150: mse = 17.6812\n",
      "Epoch 15/150: mse = 17.4965\n",
      "Epoch 16/150: mse = 17.4088\n",
      "Epoch 17/150: mse = 17.3294\n",
      "Epoch 18/150: mse = 17.2677\n",
      "Epoch 19/150: mse = 17.2364\n",
      "Epoch 20/150: mse = 17.2050\n",
      "Epoch 21/150: mse = 17.1778\n",
      "Epoch 22/150: mse = 17.1711\n",
      "Epoch 23/150: mse = 17.1548\n",
      "Epoch 24/150: mse = 17.1479\n",
      "Epoch 25/150: mse = 17.1406\n",
      "Epoch 26/150: mse = 17.1363\n",
      "Epoch 27/150: mse = 17.1275\n",
      "Epoch 28/150: mse = 17.1277\n",
      "Epoch 29/150: mse = 17.1274\n",
      "Epoch 30/150: mse = 17.1169\n",
      "Epoch 31/150: mse = 17.1157\n",
      "Epoch 32/150: mse = 17.1138\n",
      "Epoch 33/150: mse = 17.1191\n",
      "Epoch 34/150: mse = 17.1080\n",
      "Epoch 35/150: mse = 17.1062\n",
      "Epoch 36/150: mse = 17.1064\n",
      "Epoch 37/150: mse = 17.1073\n",
      "Epoch 38/150: mse = 17.1060\n",
      "Epoch 39/150: mse = 17.0918\n",
      "Epoch 40/150: mse = 17.1037\n",
      "Epoch 41/150: mse = 17.1035\n",
      "Epoch 42/150: mse = 17.0986\n",
      "Epoch 43/150: mse = 17.1024\n",
      "Epoch 44/150: mse = 17.1001\n",
      "Epoch 45/150: mse = 17.0969\n",
      "Epoch 46/150: mse = 17.0974\n",
      "Epoch 47/150: mse = 17.1029\n",
      "Epoch 48/150: mse = 17.0968\n",
      "Epoch 49/150: mse = 17.0956\n",
      "Epoch 50/150: mse = 17.0960\n",
      "Epoch 51/150: mse = 17.0918\n",
      "Epoch 52/150: mse = 17.0953\n",
      "Epoch 53/150: mse = 17.0931\n",
      "Epoch 54/150: mse = 17.0900\n",
      "Epoch 55/150: mse = 17.0876\n",
      "Epoch 56/150: mse = 17.0914\n",
      "Epoch 57/150: mse = 17.0880\n",
      "Epoch 58/150: mse = 17.0865\n",
      "Epoch 59/150: mse = 17.0833\n",
      "Epoch 60/150: mse = 17.0891\n",
      "Epoch 61/150: mse = 17.0809\n",
      "Epoch 62/150: mse = 17.0794\n",
      "Epoch 63/150: mse = 17.0859\n",
      "Epoch 64/150: mse = 17.0775\n",
      "Epoch 65/150: mse = 17.0766\n",
      "Epoch 66/150: mse = 17.0812\n",
      "Epoch 67/150: mse = 17.0746\n",
      "Epoch 68/150: mse = 17.0796\n",
      "Epoch 69/150: mse = 17.0742\n",
      "Epoch 70/150: mse = 17.0733\n",
      "Epoch 71/150: mse = 17.0759\n",
      "Epoch 72/150: mse = 17.0726\n",
      "Epoch 73/150: mse = 17.0700\n",
      "Epoch 74/150: mse = 17.0776\n",
      "Epoch 75/150: mse = 17.0715\n",
      "Epoch 76/150: mse = 17.0664\n",
      "Epoch 77/150: mse = 17.0688\n",
      "Epoch 78/150: mse = 17.0695\n",
      "Epoch 79/150: mse = 17.0674\n",
      "Epoch 80/150: mse = 17.0653\n",
      "Epoch 81/150: mse = 17.0724\n",
      "Epoch 82/150: mse = 17.0591\n",
      "Epoch 83/150: mse = 17.0597\n",
      "Epoch 84/150: mse = 17.0627\n",
      "Epoch 85/150: mse = 17.0589\n",
      "Epoch 86/150: mse = 17.0612\n",
      "Epoch 87/150: mse = 17.0629\n",
      "Epoch 88/150: mse = 17.0600\n",
      "Epoch 89/150: mse = 17.0599\n",
      "Epoch 90/150: mse = 17.0558\n",
      "Epoch 91/150: mse = 17.0589\n",
      "Epoch 92/150: mse = 17.0578\n",
      "Epoch 93/150: mse = 17.0537\n",
      "Epoch 94/150: mse = 17.0560\n",
      "Epoch 95/150: mse = 17.0628\n",
      "Epoch 96/150: mse = 17.0528\n",
      "Epoch 97/150: mse = 17.0512\n",
      "Epoch 98/150: mse = 17.0541\n",
      "Epoch 99/150: mse = 17.0486\n",
      "Epoch 100/150: mse = 17.0493\n",
      "Epoch 101/150: mse = 17.0452\n",
      "Epoch 102/150: mse = 17.0483\n",
      "Epoch 103/150: mse = 17.0457\n",
      "Epoch 104/150: mse = 17.0445\n",
      "Epoch 105/150: mse = 17.0470\n",
      "Epoch 106/150: mse = 17.0390\n",
      "Epoch 107/150: mse = 17.0416\n",
      "Epoch 108/150: mse = 17.0373\n",
      "Epoch 109/150: mse = 17.0422\n",
      "Epoch 110/150: mse = 17.0356\n",
      "Epoch 111/150: mse = 17.0338\n",
      "Epoch 112/150: mse = 17.0349\n",
      "Epoch 113/150: mse = 17.0370\n",
      "Epoch 114/150: mse = 17.0373\n",
      "Epoch 115/150: mse = 17.0378\n",
      "Epoch 116/150: mse = 17.0348\n",
      "Epoch 117/150: mse = 17.0353\n",
      "Epoch 118/150: mse = 17.0340\n",
      "Epoch 119/150: mse = 17.0386\n",
      "Epoch 120/150: mse = 17.0338\n",
      "Epoch 121/150: mse = 17.0284\n",
      "Epoch 122/150: mse = 17.0280\n",
      "Epoch 123/150: mse = 17.0306\n",
      "Epoch 124/150: mse = 17.0316\n",
      "Epoch 125/150: mse = 17.0268\n",
      "Epoch 126/150: mse = 17.0271\n",
      "Epoch 127/150: mse = 17.0292\n",
      "Epoch 128/150: mse = 17.0290\n",
      "Epoch 129/150: mse = 17.0221\n",
      "Epoch 130/150: mse = 17.0264\n",
      "Epoch 131/150: mse = 17.0243\n",
      "Epoch 132/150: mse = 17.0268\n",
      "Epoch 133/150: mse = 17.0276\n",
      "Epoch 134/150: mse = 17.0254\n",
      "Epoch 135/150: mse = 17.0308\n",
      "Epoch 136/150: mse = 17.0263\n",
      "Epoch 137/150: mse = 17.0200\n",
      "Epoch 138/150: mse = 17.0229\n",
      "Epoch 139/150: mse = 17.0203\n",
      "Epoch 140/150: mse = 17.0222\n",
      "Epoch 141/150: mse = 17.0218\n",
      "Epoch 142/150: mse = 17.0196\n",
      "Epoch 143/150: mse = 17.0173\n",
      "Epoch 144/150: mse = 17.0126\n",
      "Epoch 145/150: mse = 17.0196\n",
      "Epoch 146/150: mse = 17.0187\n",
      "Epoch 147/150: mse = 17.0179\n",
      "Epoch 148/150: mse = 17.0249\n",
      "Epoch 149/150: mse = 17.0189\n",
      "Epoch 150/150: mse = 17.0227\n"
     ]
    }
   ],
   "source": [
    "tf.random.set_seed(225) #Pour obtenir des résultats reproductibles\n",
    "history = model.fit(X_train, y_train, epochs=150, batch_size=128, verbose=0, validation_data=(X_valid, y_valid), callbacks=[progress_callback])"
   ]
  },
  {
   "cell_type": "markdown",
   "metadata": {
    "id": "taEI3KlatOkc"
   },
   "source": [
    "10. Évaluation de l'ajustement du modèle"
   ]
  },
  {
   "cell_type": "code",
   "execution_count": 15,
   "metadata": {
    "colab": {
     "base_uri": "https://localhost:8080/"
    },
    "id": "7Ei4dMOsl8_J",
    "outputId": "ceaef2fe-ed60-4fcc-b1c3-87a43df9ca5a"
   },
   "outputs": [
    {
     "name": "stdout",
     "output_type": "stream",
     "text": [
      "[16.890790939331055, 16.890790939331055]\n"
     ]
    }
   ],
   "source": [
    "error = model.evaluate(X_test, y_test, verbose=0)\n",
    "print(error)"
   ]
  },
  {
   "cell_type": "code",
   "execution_count": 16,
   "metadata": {
    "colab": {
     "base_uri": "https://localhost:8080/",
     "height": 430
    },
    "id": "8dHgBepRtXZR",
    "outputId": "9e052fb1-2732-4044-dc26-94f76cd66104"
   },
   "outputs": [
    {
     "name": "stdout",
     "output_type": "stream",
     "text": [
      "Model: \"sequential\"\n",
      "_________________________________________________________________\n",
      " Layer (type)                Output Shape              Param #   \n",
      "=================================================================\n",
      " dense (Dense)               (None, 10)                210       \n",
      "                                                                 \n",
      " dense_1 (Dense)             (None, 8)                 88        \n",
      "                                                                 \n",
      " dense_2 (Dense)             (None, 1)                 9         \n",
      "                                                                 \n",
      "=================================================================\n",
      "Total params: 307 (1.20 KB)\n",
      "Trainable params: 307 (1.20 KB)\n",
      "Non-trainable params: 0 (0.00 Byte)\n",
      "_________________________________________________________________\n",
      "None\n"
     ]
    }
   ],
   "source": [
    "print(model.summary())"
   ]
  },
  {
   "cell_type": "code",
   "execution_count": 17,
   "metadata": {},
   "outputs": [
    {
     "name": "stdout",
     "output_type": "stream",
     "text": [
      "You must install pydot (`pip install pydot`) and install graphviz (see instructions at https://graphviz.gitlab.io/download/) for plot_model to work.\n"
     ]
    }
   ],
   "source": [
    "plot_model(model, show_shapes=True, show_layer_names=True, to_file='model.png')"
   ]
  },
  {
   "cell_type": "code",
   "execution_count": 40,
   "metadata": {},
   "outputs": [
    {
     "data": {
      "image/png": "[encoded data removed]",
      "text/plain": [
       "<Figure size 800x500 with 1 Axes>"
      ]
     },
     "metadata": {},
     "output_type": "display_data"
    }
   ],
   "source": [
    "pd.DataFrame(history.history).plot(\n",
    "    figsize=(8,5), xlim=[0,10], ylim=[0,100], grid=True, xlabel=\"Epoch\", style=[\"r--\", \"r--.\", \"b-\", \"b-*\"])\n",
    "plt.show()"
   ]
  },
  {
   "cell_type": "code",
   "execution_count": null,
   "metadata": {},
   "outputs": [],
   "source": []
  }
 ],
 "metadata": {
  "colab": {
   "provenance": []
  },
  "kernelspec": {
   "display_name": "Python 3 (ipykernel)",
   "language": "python",
   "name": "python3"
  },
  "language_info": {
   "codemirror_mode": {
    "name": "ipython",
    "version": 3
   },
   "file_extension": ".py",
   "mimetype": "text/x-python",
   "name": "python",
   "nbconvert_exporter": "python",
   "pygments_lexer": "ipython3",
   "version": "3.11.4"
  }
 },
 "nbformat": 4,
 "nbformat_minor": 1
}
